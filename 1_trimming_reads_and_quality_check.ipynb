{
 "cells": [
  {
   "cell_type": "markdown",
   "metadata": {},
   "source": [
    "#### aim :\n",
    "\n",
    "compare the lsd-2 reads (the virus after several passages in cell culture) with the same virus (MH893760.2 https://www.ncbi.nlm.nih.gov/nuccore/1546192827) recovered in the field later. \n",
    "\n",
    "#### input data :\n",
    "\n"
   ]
  },
  {
   "cell_type": "code",
   "execution_count": null,
   "metadata": {},
   "outputs": [],
   "source": []
  },
  {
   "cell_type": "markdown",
   "metadata": {},
   "source": [
    "### 1. quality of the raw data"
   ]
  },
  {
   "cell_type": "code",
   "execution_count": 1,
   "metadata": {},
   "outputs": [],
   "source": [
    "%%bash\n",
    "mkdir fastqc_out"
   ]
  },
  {
   "cell_type": "code",
   "execution_count": 2,
   "metadata": {},
   "outputs": [
    {
     "name": "stdout",
     "output_type": "stream",
     "text": [
      "LSD-2_S1_L001_R1_001.fastq\n",
      "LSD-2_S1_L001_R2_001.fastq\n"
     ]
    }
   ],
   "source": [
    "%%bash\n",
    "ls ./input_data"
   ]
  },
  {
   "cell_type": "code",
   "execution_count": 3,
   "metadata": {},
   "outputs": [],
   "source": [
    "%%bash\n",
    "fastqc \\\n",
    "./input_data/LSD-2_S1_L001_R1_001.fastq \\\n",
    "./input_data/LSD-2_S1_L001_R2_001.fastq \\\n",
    "--quiet \\\n",
    "-o ./fastqc_out"
   ]
  },
  {
   "cell_type": "code",
   "execution_count": 4,
   "metadata": {},
   "outputs": [
    {
     "name": "stdout",
     "output_type": "stream",
     "text": [
      "LSD-2_S1_L001_R1_001_fastqc.html\n",
      "LSD-2_S1_L001_R1_001_fastqc.zip\n",
      "LSD-2_S1_L001_R2_001_fastqc.html\n",
      "LSD-2_S1_L001_R2_001_fastqc.zip\n",
      "raw_reads_phred_qual_1.png\n",
      "raw_reads_phred_qual_2_.png\n",
      "raw_reads_sequence_content_across_bases_1.png\n",
      "raw_reads_sequence_content_across_bases_2_.png\n"
     ]
    }
   ],
   "source": [
    "%%bash\n",
    "ls ./fastqc_out/"
   ]
  },
  {
   "cell_type": "markdown",
   "metadata": {},
   "source": [
    "#### quality and bases content of the R1 file:"
   ]
  },
  {
   "cell_type": "markdown",
   "metadata": {},
   "source": [
    "![qual_r1](./fastqc_out/raw_reads_phred_qual_1.png)"
   ]
  },
  {
   "cell_type": "markdown",
   "metadata": {},
   "source": [
    "![base_r1](./fastqc_out/raw_reads_sequence_content_across_bases_1.png)"
   ]
  },
  {
   "cell_type": "markdown",
   "metadata": {},
   "source": [
    "#### quality and bases content of the R2 file:"
   ]
  },
  {
   "cell_type": "markdown",
   "metadata": {},
   "source": [
    "![qual_r2](./fastqc_out/raw_reads_phred_qual_2_.png)"
   ]
  },
  {
   "cell_type": "markdown",
   "metadata": {},
   "source": [
    "![base0_r2](./fastqc_out/raw_reads_sequence_content_across_bases_2_.png)"
   ]
  },
  {
   "cell_type": "markdown",
   "metadata": {},
   "source": [
    "### 2. trimming reads"
   ]
  },
  {
   "cell_type": "code",
   "execution_count": 6,
   "metadata": {},
   "outputs": [
    {
     "name": "stderr",
     "output_type": "stream",
     "text": [
      "TrimmomaticPE: Started with arguments:\n",
      " ./input_data/LSD-2_S1_L001_R1_001.fastq ./input_data/LSD-2_S1_L001_R2_001.fastq ./input_data/1_trim_qual_32_1P.fastq ./input_data/1_trim_qual_32_1U.fastq ./input_data/1_trim_qual_32_2P.fastq ./input_data/1_trim_qual_32_2U.fastq ILLUMINACLIP:/home/yuriy/Trimmomatic-0.38/adapters/NexteraPE-PE.fa:2:30:10 CROP:60 HEADCROP:15 TRAILING:32 MINLEN:21\n",
      "Multiple cores found: Using 4 threads\n",
      "Using PrefixPair: 'AGATGTGTATAAGAGACAG' and 'AGATGTGTATAAGAGACAG'\n",
      "Using Long Clipping Sequence: 'GTCTCGTGGGCTCGGAGATGTGTATAAGAGACAG'\n",
      "Using Long Clipping Sequence: 'TCGTCGGCAGCGTCAGATGTGTATAAGAGACAG'\n",
      "Using Long Clipping Sequence: 'CTGTCTCTTATACACATCTCCGAGCCCACGAGAC'\n",
      "Using Long Clipping Sequence: 'CTGTCTCTTATACACATCTGACGCTGCCGACGA'\n",
      "ILLUMINACLIP: Using 1 prefix pairs, 4 forward/reverse sequences, 0 forward only sequences, 0 reverse only sequences\n",
      "Quality encoding detected as phred33\n",
      "Input Read Pairs: 712005 Both Surviving: 689480 (96.84%) Forward Only Surviving: 21652 (3.04%) Reverse Only Surviving: 543 (0.08%) Dropped: 330 (0.05%)\n",
      "TrimmomaticPE: Completed successfully\n"
     ]
    }
   ],
   "source": [
    "%%bash\n",
    "java -jar /home/yuriy/Trimmomatic-0.38/trimmomatic-0.38.jar \\\n",
    "PE \\\n",
    "./input_data/LSD-2_S1_L001_R1_001.fastq \\\n",
    "./input_data/LSD-2_S1_L001_R2_001.fastq \\\n",
    "./input_data/1_trim_qual_32_1P.fastq \\\n",
    "./input_data/1_trim_qual_32_1U.fastq \\\n",
    "./input_data/1_trim_qual_32_2P.fastq \\\n",
    "./input_data/1_trim_qual_32_2U.fastq \\\n",
    "ILLUMINACLIP:/home/yuriy/Trimmomatic-0.38/adapters/NexteraPE-PE.fa:2:30:10 \\\n",
    "CROP:60 \\\n",
    "HEADCROP:15 \\\n",
    "TRAILING:32 \\\n",
    "MINLEN:21"
   ]
  },
  {
   "cell_type": "code",
   "execution_count": null,
   "metadata": {},
   "outputs": [],
   "source": []
  },
  {
   "cell_type": "markdown",
   "metadata": {},
   "source": [
    "### 3. rechecking quality"
   ]
  },
  {
   "cell_type": "code",
   "execution_count": 9,
   "metadata": {},
   "outputs": [
    {
     "name": "stdout",
     "output_type": "stream",
     "text": [
      "1_trim_qual_32_1P.fastq\n",
      "1_trim_qual_32_1U.fastq\n",
      "1_trim_qual_32_2P.fastq\n",
      "1_trim_qual_32_2U.fastq\n",
      "LSD-2_S1_L001_R1_001.fastq\n",
      "LSD-2_S1_L001_R2_001.fastq\n"
     ]
    }
   ],
   "source": [
    "%%bash\n",
    "ls ./input_data/"
   ]
  },
  {
   "cell_type": "code",
   "execution_count": 10,
   "metadata": {},
   "outputs": [],
   "source": [
    "%%bash\n",
    "fastqc \\\n",
    "./input_data/1_trim_qual_32_1P.fastq \\\n",
    "./input_data/1_trim_qual_32_1U.fastq \\\n",
    "./input_data/1_trim_qual_32_2P.fastq \\\n",
    "./input_data/1_trim_qual_32_2U.fastq \\\n",
    "--quiet \\\n",
    "-o ./fastqc_out"
   ]
  },
  {
   "cell_type": "code",
   "execution_count": null,
   "metadata": {},
   "outputs": [],
   "source": []
  },
  {
   "cell_type": "markdown",
   "metadata": {},
   "source": [
    "#### quality and base content plots of the 1P file :"
   ]
  },
  {
   "cell_type": "code",
   "execution_count": 17,
   "metadata": {},
   "outputs": [
    {
     "name": "stdout",
     "output_type": "stream",
     "text": [
      "1_trim_base_content_1P_.png\n",
      "1_trim_bases_1U_.png\n",
      "1_trim_kmers_1P_.png\n",
      "1_trim_overrepresent_1P_.png\n",
      "1_trim_phred_1U_.png\n",
      "1_trim_phred_qual_1P_.png\n",
      "1_trim_qual_32_1P_fastqc.html\n",
      "1_trim_qual_32_1P_fastqc.zip\n",
      "1_trim_qual_32_1U_fastqc.html\n",
      "1_trim_qual_32_1U_fastqc.zip\n",
      "1_trim_qual_32_2P_fastqc.html\n",
      "1_trim_qual_32_2P_fastqc.zip\n",
      "1_trim_qual_32_2U_fastqc.html\n",
      "1_trim_qual_32_2U_fastqc.zip\n",
      "LSD-2_S1_L001_R1_001_fastqc.html\n",
      "LSD-2_S1_L001_R1_001_fastqc.zip\n",
      "LSD-2_S1_L001_R2_001_fastqc.html\n",
      "LSD-2_S1_L001_R2_001_fastqc.zip\n",
      "raw_reads_phred_qual_1.png\n",
      "raw_reads_phred_qual_2_.png\n",
      "raw_reads_sequence_content_across_bases_1.png\n",
      "raw_reads_sequence_content_across_bases_2_.png\n"
     ]
    }
   ],
   "source": [
    "%%bash\n",
    "ls ./fastqc_out/"
   ]
  },
  {
   "cell_type": "markdown",
   "metadata": {},
   "source": [
    "### quality of the 1P file :"
   ]
  },
  {
   "cell_type": "markdown",
   "metadata": {},
   "source": [
    "![qual_1P](./fastqc_out/1_trim_phred_qual_1P_.png)"
   ]
  },
  {
   "cell_type": "markdown",
   "metadata": {},
   "source": [
    "![base_1P](./fastqc_out/1_trim_base_content_1P_.png)"
   ]
  },
  {
   "cell_type": "markdown",
   "metadata": {},
   "source": [
    "![over_1P](./fastqc_out/1_trim_overrepresent_1P_.png)"
   ]
  },
  {
   "cell_type": "markdown",
   "metadata": {},
   "source": [
    "![kmer_1P](./fastqc_out/1_trim_kmers_1P_.png)"
   ]
  },
  {
   "cell_type": "markdown",
   "metadata": {},
   "source": [
    "### quality of the 1U file :"
   ]
  },
  {
   "cell_type": "markdown",
   "metadata": {},
   "source": [
    "![phred_1U](./fastqc_out/1_trim_phred_1U_.png)"
   ]
  },
  {
   "cell_type": "markdown",
   "metadata": {},
   "source": [
    "![bases_1U](./fastqc_out/1_trim_bases_1U_.png)"
   ]
  },
  {
   "cell_type": "markdown",
   "metadata": {},
   "source": [
    "### quality of the 2P file\n",
    "\n",
    "- needs to be recroppred"
   ]
  },
  {
   "cell_type": "markdown",
   "metadata": {},
   "source": [
    "![phred_2P](./fastqc_out/1_trim_phred_2P_.png)"
   ]
  },
  {
   "cell_type": "markdown",
   "metadata": {},
   "source": [
    "![bases_2P](./fastqc_out/1_trim_bases_2P_.png)"
   ]
  },
  {
   "cell_type": "markdown",
   "metadata": {},
   "source": [
    "![kmers_2P](./fastqc_out/1_trim_kmers_2P_.png)"
   ]
  },
  {
   "cell_type": "markdown",
   "metadata": {},
   "source": [
    "### quality of the 2U file\n",
    "\n",
    "- file contains only 548 reads. so, it can be omitted from further work"
   ]
  },
  {
   "cell_type": "markdown",
   "metadata": {},
   "source": [
    "![phred_2U](./fastqc_out/1_trim_phred_2U_.png)"
   ]
  },
  {
   "cell_type": "markdown",
   "metadata": {},
   "source": [
    "![bases_2U](./fastqc_out/1_trim_bases_2U_.png)"
   ]
  },
  {
   "cell_type": "code",
   "execution_count": null,
   "metadata": {},
   "outputs": [],
   "source": []
  },
  {
   "cell_type": "code",
   "execution_count": null,
   "metadata": {},
   "outputs": [],
   "source": []
  },
  {
   "cell_type": "code",
   "execution_count": null,
   "metadata": {},
   "outputs": [],
   "source": []
  },
  {
   "cell_type": "code",
   "execution_count": null,
   "metadata": {},
   "outputs": [],
   "source": []
  },
  {
   "cell_type": "code",
   "execution_count": null,
   "metadata": {},
   "outputs": [],
   "source": []
  },
  {
   "cell_type": "code",
   "execution_count": null,
   "metadata": {},
   "outputs": [],
   "source": []
  },
  {
   "cell_type": "code",
   "execution_count": null,
   "metadata": {},
   "outputs": [],
   "source": []
  },
  {
   "cell_type": "code",
   "execution_count": null,
   "metadata": {},
   "outputs": [],
   "source": []
  },
  {
   "cell_type": "code",
   "execution_count": null,
   "metadata": {},
   "outputs": [],
   "source": []
  },
  {
   "cell_type": "code",
   "execution_count": null,
   "metadata": {},
   "outputs": [],
   "source": []
  },
  {
   "cell_type": "code",
   "execution_count": null,
   "metadata": {},
   "outputs": [],
   "source": []
  },
  {
   "cell_type": "code",
   "execution_count": null,
   "metadata": {},
   "outputs": [],
   "source": []
  },
  {
   "cell_type": "code",
   "execution_count": null,
   "metadata": {},
   "outputs": [],
   "source": []
  },
  {
   "cell_type": "code",
   "execution_count": null,
   "metadata": {},
   "outputs": [],
   "source": []
  },
  {
   "cell_type": "code",
   "execution_count": null,
   "metadata": {},
   "outputs": [],
   "source": []
  },
  {
   "cell_type": "code",
   "execution_count": null,
   "metadata": {},
   "outputs": [],
   "source": []
  },
  {
   "cell_type": "code",
   "execution_count": null,
   "metadata": {},
   "outputs": [],
   "source": []
  },
  {
   "cell_type": "code",
   "execution_count": null,
   "metadata": {},
   "outputs": [],
   "source": []
  },
  {
   "cell_type": "code",
   "execution_count": null,
   "metadata": {},
   "outputs": [],
   "source": []
  },
  {
   "cell_type": "code",
   "execution_count": null,
   "metadata": {},
   "outputs": [],
   "source": []
  },
  {
   "cell_type": "code",
   "execution_count": null,
   "metadata": {},
   "outputs": [],
   "source": []
  },
  {
   "cell_type": "code",
   "execution_count": null,
   "metadata": {},
   "outputs": [],
   "source": []
  },
  {
   "cell_type": "code",
   "execution_count": null,
   "metadata": {},
   "outputs": [],
   "source": []
  },
  {
   "cell_type": "code",
   "execution_count": null,
   "metadata": {},
   "outputs": [],
   "source": []
  }
 ],
 "metadata": {
  "kernelspec": {
   "display_name": "Python 3",
   "language": "python",
   "name": "python3"
  },
  "language_info": {
   "codemirror_mode": {
    "name": "ipython",
    "version": 3
   },
   "file_extension": ".py",
   "mimetype": "text/x-python",
   "name": "python",
   "nbconvert_exporter": "python",
   "pygments_lexer": "ipython3",
   "version": "3.6.5"
  }
 },
 "nbformat": 4,
 "nbformat_minor": 2
}
