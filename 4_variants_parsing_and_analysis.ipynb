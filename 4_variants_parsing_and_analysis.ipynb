{
 "cells": [
  {
   "cell_type": "code",
   "execution_count": 1,
   "metadata": {},
   "outputs": [],
   "source": [
    "import vcf"
   ]
  },
  {
   "cell_type": "markdown",
   "metadata": {},
   "source": [
    "- indels are detected in poly A and poly T sites, or in the TA repeats. \n",
    "\n",
    "These issue is addressed here : http://seqanswers.com/forums/showthread.php?t=47721\n",
    "- so, we don't take them into account"
   ]
  },
  {
   "cell_type": "code",
   "execution_count": 4,
   "metadata": {
    "scrolled": true
   },
   "outputs": [
    {
     "name": "stdout",
     "output_type": "stream",
     "text": [
      "Record(CHROM=MH893760.2, POS=11566, REF=TTTATTAT, ALT=[TTTAT])\n",
      "23\n",
      "[1, 1, 3, 8]\n",
      "{'INDEL': True, 'IDV': 8, 'IMF': 0.347826, 'DP': 23, 'VDB': 0.579086, 'SGB': -0.676189, 'MQSB': 0.785785, 'MQ0F': 0.173913, 'AF1': 1.0, 'AC1': 1.0, 'DP4': [1, 1, 3, 8], 'MQ': 13, 'FQ': -999.0, 'PV4': [1.0, 1.0, 1.0, 1.0]}\n",
      "--------------------\n",
      "Record(CHROM=MH893760.2, POS=12057, REF=GTTTTTTTTTTT, ALT=[GTTTTTTTTTTTTT])\n",
      "37\n",
      "[1, 0, 0, 11]\n",
      "{'INDEL': True, 'IDV': 4, 'IMF': 0.108108, 'DP': 37, 'VDB': 0.118797, 'SGB': -0.676189, 'MQSB': 1.0, 'MQ0F': 0.0810811, 'AF1': 1.0, 'AC1': 1.0, 'DP4': [1, 0, 0, 11], 'MQ': 21, 'FQ': -999.0, 'PV4': [0.0833333, 1.0, 1.0, 1.0]}\n",
      "--------------------\n",
      "Record(CHROM=MH893760.2, POS=16010, REF=TAAAAAAAAA, ALT=[TAAAAAAAAAA])\n",
      "15\n",
      "[0, 0, 1, 5]\n",
      "{'INDEL': True, 'IDV': 4, 'IMF': 0.266667, 'DP': 15, 'VDB': 0.258434, 'SGB': -0.616816, 'MQSB': 1.0, 'MQ0F': 0.0, 'AF1': 1.0, 'AC1': 1.0, 'DP4': [0, 0, 1, 5], 'MQ': 33, 'FQ': -999.0}\n",
      "--------------------\n",
      "Record(CHROM=MH893760.2, POS=18168, REF=CTTTTTTTT, ALT=[CTTTTTTT])\n",
      "22\n",
      "[0, 0, 5, 9]\n",
      "{'INDEL': True, 'IDV': 11, 'IMF': 0.5, 'DP': 22, 'VDB': 0.215711, 'SGB': -0.686358, 'MQSB': 0.945959, 'MQ0F': 0.0, 'AF1': 1.0, 'AC1': 1.0, 'DP4': [0, 0, 5, 9], 'MQ': 39, 'FQ': -999.0}\n",
      "--------------------\n",
      "Record(CHROM=MH893760.2, POS=27951, REF=ATTTTTTTTTTT, ALT=[ATTTTTTTTTTTT])\n",
      "24\n",
      "[0, 0, 7, 2]\n",
      "{'INDEL': True, 'IDV': 6, 'IMF': 0.25, 'DP': 24, 'VDB': 0.256052, 'SGB': -0.662043, 'MQSB': 0.857143, 'MQ0F': 0.0416667, 'AF1': 1.0, 'AC1': 1.0, 'DP4': [0, 0, 7, 2], 'MQ': 39, 'FQ': -999.0}\n",
      "--------------------\n",
      "Record(CHROM=MH893760.2, POS=40202, REF=ATTTTTTT, ALT=[ATTTTTT])\n",
      "39\n",
      "[0, 0, 8, 11]\n",
      "{'INDEL': True, 'IDV': 17, 'IMF': 0.435897, 'DP': 39, 'VDB': 0.570435, 'SGB': -0.69168, 'MQSB': 0.488331, 'MQ0F': 0.0, 'AF1': 1.0, 'AC1': 1.0, 'DP4': [0, 0, 8, 11], 'MQ': 37, 'FQ': -999.0}\n",
      "--------------------\n",
      "Record(CHROM=MH893760.2, POS=57346, REF=CAAAAAAAA, ALT=[CAAAAAAAAA, CAAAAAAAAAA])\n",
      "27\n",
      "[0, 0, 3, 9]\n",
      "{'INDEL': True, 'IDV': 13, 'IMF': 0.481481, 'DP': 27, 'VDB': 0.037212, 'SGB': -0.680642, 'MQSB': 0.334869, 'MQ0F': 0.0, 'AF1': 1.0, 'AC1': 1.0, 'DP4': [0, 0, 3, 9], 'MQ': 32, 'FQ': -999.0}\n",
      "--------------------\n",
      "Record(CHROM=MH893760.2, POS=57992, REF=ATTTTTTTT, ALT=[ATTTTTTTTT])\n",
      "109\n",
      "[0, 0, 2, 54]\n",
      "{'INDEL': True, 'IDV': 55, 'IMF': 0.504587, 'DP': 109, 'VDB': 4.31862e-21, 'SGB': -0.693147, 'MQSB': 0.898148, 'MQ0F': 0.0, 'AF1': 1.0, 'AC1': 1.0, 'DP4': [0, 0, 2, 54], 'MQ': 35, 'FQ': -999.0}\n",
      "--------------------\n",
      "Record(CHROM=MH893760.2, POS=84130, REF=ATTTTT, ALT=[ATTTTTT])\n",
      "17\n",
      "[0, 2, 3, 2]\n",
      "{'INDEL': True, 'IDV': 3, 'IMF': 0.176471, 'DP': 17, 'VDB': 0.358597, 'SGB': -0.590765, 'MQSB': 0.810265, 'MQ0F': 0.0588235, 'AF1': 1.0, 'AC1': 1.0, 'DP4': [0, 2, 3, 2], 'MQ': 32, 'FQ': -999.0, 'PV4': [0.428571, 1.0, 1.0, 1.0]}\n",
      "--------------------\n",
      "Record(CHROM=MH893760.2, POS=89921, REF=TGAAGAAGAAGAAGAAGAAGAAGAA, ALT=[TGAAGAAGAAGAAGAAGAAGAA])\n",
      "215\n",
      "[1, 0, 56, 21]\n",
      "{'INDEL': True, 'IDV': 56, 'IMF': 0.260465, 'DP': 215, 'VDB': 2.81899e-11, 'SGB': -0.693147, 'MQSB': 0.601548, 'MQ0F': 0.0186047, 'AF1': 1.0, 'AC1': 1.0, 'DP4': [1, 0, 56, 21], 'MQ': 14, 'FQ': -999.0, 'PV4': [1.0, 0.0390143, 5.13611e-05, 0.247467]}\n",
      "--------------------\n",
      "Record(CHROM=MH893760.2, POS=145023, REF=GAAAAAAA, ALT=[GAAAAAA])\n",
      "60\n",
      "[0, 0, 29, 16]\n",
      "{'INDEL': True, 'IDV': 42, 'IMF': 0.7, 'DP': 60, 'VDB': 1.33221e-05, 'SGB': -0.693147, 'MQSB': 0.69467, 'MQ0F': 0.0333333, 'AF1': 1.0, 'AC1': 1.0, 'DP4': [0, 0, 29, 16], 'MQ': 38, 'FQ': -999.0}\n",
      "--------------------\n",
      "Record(CHROM=MH893760.2, POS=145762, REF=AAATAATAATAATA, ALT=[AAATAATAATAATAATA])\n",
      "22\n",
      "[0, 0, 8, 4]\n",
      "{'INDEL': True, 'IDV': 5, 'IMF': 0.227273, 'DP': 22, 'VDB': 0.18368, 'SGB': -0.680642, 'MQSB': 0.397295, 'MQ0F': 0.0, 'AF1': 1.0, 'AC1': 1.0, 'DP4': [0, 0, 8, 4], 'MQ': 15, 'FQ': -999.0}\n",
      "--------------------\n",
      "12\n"
     ]
    }
   ],
   "source": [
    "vcf_reader = vcf.Reader(open('./samtools_out/lsd_2_vars.vcf', 'r'))\n",
    "counter = 0\n",
    "for record in vcf_reader:\n",
    "    if \"INDEL\" in record.INFO.keys():\n",
    "        print(record)\n",
    "        print(record.INFO[\"DP\"])\n",
    "        print(record.INFO[\"DP4\"])\n",
    "        print(record.INFO)\n",
    "        print(\"--------------------\")\n",
    "        counter += 1\n",
    "\n",
    "print(counter)\n",
    "    "
   ]
  },
  {
   "cell_type": "code",
   "execution_count": null,
   "metadata": {},
   "outputs": [],
   "source": []
  },
  {
   "cell_type": "markdown",
   "metadata": {},
   "source": [
    "- we take only SNPs.\n",
    "- if number of reads supporting alternative variant is greater than 10, we print it out"
   ]
  },
  {
   "cell_type": "code",
   "execution_count": 5,
   "metadata": {},
   "outputs": [
    {
     "name": "stdout",
     "output_type": "stream",
     "text": [
      "Record(CHROM=MH893760.2, POS=21695, REF=C, ALT=[T])\n",
      "88\n",
      "[12, 7, 30, 27]\n",
      "{'DP': 88, 'VDB': 0.00825332, 'SGB': -0.693147, 'RPB': 0.0293038, 'MQB': 5.50095e-08, 'MQSB': 0.962405, 'BQB': 0.0458218, 'MQ0F': 0.0681818, 'AF1': 0.510155, 'AC1': 1.0, 'DP4': [12, 7, 30, 27], 'MQ': 36, 'FQ': -999.0, 'PV4': [0.594997, 1.0, 1.0, 1.0]}\n",
      "--------------------\n",
      "Record(CHROM=MH893760.2, POS=24453, REF=T, ALT=[C])\n",
      "20\n",
      "[1, 3, 6, 10]\n",
      "{'DP': 20, 'VDB': 0.0529202, 'SGB': -0.689466, 'RPB': 0.366241, 'MQB': 0.0103432, 'MQSB': 0.962269, 'BQB': 0.982301, 'MQ0F': 0.05, 'AF1': 1.0, 'AC1': 1.0, 'DP4': [1, 3, 6, 10], 'MQ': 38, 'FQ': -999.0, 'PV4': [1.0, 0.233036, 1.0, 1.0]}\n",
      "--------------------\n",
      "Record(CHROM=MH893760.2, POS=63853, REF=G, ALT=[A])\n",
      "77\n",
      "[7, 3, 8, 55]\n",
      "{'DP': 77, 'VDB': 0.00144445, 'SGB': -0.693147, 'RPB': 0.876526, 'MQB': 2.84408e-06, 'MQSB': 0.0866522, 'BQB': 0.537055, 'MQ0F': 0.012987, 'AF1': 1.0, 'AC1': 1.0, 'DP4': [7, 3, 8, 55], 'MQ': 37, 'FQ': -999.0, 'PV4': [0.000337164, 1.0, 1.0, 1.0]}\n",
      "--------------------\n",
      "3\n"
     ]
    }
   ],
   "source": [
    "vcf_reader = vcf.Reader(open('./samtools_out/lsd_2_vars_snp.vcf', 'r'))\n",
    "counter = 0\n",
    "for record in vcf_reader:\n",
    "    if int(record.INFO[\"DP4\"][2]) + (record.INFO[\"DP4\"][3]) >= 10:\n",
    "        print(record)\n",
    "        print(record.INFO[\"DP\"])\n",
    "        print(record.INFO[\"DP4\"])\n",
    "        print(record.INFO)\n",
    "        print(\"--------------------\")\n",
    "        counter += 1\n",
    "print(counter)\n",
    "    "
   ]
  },
  {
   "cell_type": "markdown",
   "metadata": {},
   "source": [
    "#### those three SNPs showed in IGV:"
   ]
  },
  {
   "cell_type": "markdown",
   "metadata": {},
   "source": [
    "![21695](./samtools_out/snp_21695.png)"
   ]
  },
  {
   "cell_type": "code",
   "execution_count": null,
   "metadata": {},
   "outputs": [],
   "source": []
  },
  {
   "cell_type": "markdown",
   "metadata": {},
   "source": [
    "![snp_24453.png](./samtools_out/snp_24453.png)\n"
   ]
  },
  {
   "cell_type": "code",
   "execution_count": null,
   "metadata": {},
   "outputs": [],
   "source": []
  },
  {
   "cell_type": "markdown",
   "metadata": {},
   "source": [
    "![snp_63853.png](./samtools_out/snp_63853.png)"
   ]
  },
  {
   "cell_type": "code",
   "execution_count": null,
   "metadata": {},
   "outputs": [],
   "source": []
  },
  {
   "cell_type": "code",
   "execution_count": 8,
   "metadata": {},
   "outputs": [],
   "source": [
    "from Bio import SeqIO\n",
    "from Bio import AlignIO\n",
    "from Bio import Entrez\n",
    "from Bio.Blast import NCBIWWW\n",
    "from Bio.Blast import NCBIXML\n",
    "from Bio.SeqUtils import GC\n",
    "import glob\n",
    "import matplotlib.pyplot as plt\n",
    "import pandas as pd\n",
    "import seaborn as sns\n",
    "import re\n",
    "from math import log2\n",
    "from operator import itemgetter\n",
    "from random import randint\n",
    "from time import sleep, time\n",
    "sns.set()"
   ]
  },
  {
   "cell_type": "code",
   "execution_count": 7,
   "metadata": {},
   "outputs": [],
   "source": [
    "def blast_fasta(path_to, e_thresh=0.1, hits_to_return=10):\n",
    "    \n",
    "    from http.client import IncompleteRead\n",
    "    from socket import gaierror\n",
    "    from urllib.error import HTTPError\n",
    "    \"\"\"\n",
    "    takes fasta file and blasts all the record found in it\n",
    "    writes results into the txt file\n",
    "    args:\n",
    "    path_to - path to fasta file\n",
    "    e_thresh - e-value cut off, 0.1 by default\n",
    "    hits_to_return - a number of hits returned, 10 by default\n",
    "    \"\"\"\n",
    "    fasta_to_blast = SeqIO.parse(path_to, \"fasta\")\n",
    "    \n",
    "\n",
    "    with open(\"blast_results_seqman.txt\", \"w\") as f_obj:\n",
    "        start = time()\n",
    "        for rec in fasta_to_blast:\n",
    "            f_obj.write(\"\\nQUERY: \" + rec.id + \"\\n\")\n",
    "            \n",
    "            try:\n",
    "                result_handle = NCBIWWW.qblast(\"blastn\", \"nt\",  rec.seq, hitlist_size=hits_to_return)\n",
    "                blast_record = NCBIXML.read(result_handle)\n",
    "                for alignt in  blast_record.alignments:\n",
    "                    for hsp in alignt.hsps:\n",
    "                        if hsp.expect < e_thresh:\n",
    "                            f_obj.write(\"---------hit--------\\n\")\n",
    "                            f_obj.write(\"sequence: \" + alignt.title + \"\\n\")\n",
    "                            f_obj.write(\"length: \" + str(alignt.length) + \"\\n\")\n",
    "                            f_obj.write(\"e value: \" + str(hsp.expect) + \"\\n\")\n",
    "                   \n",
    "                end = time()\n",
    "                print(rec.id + \" blast query was finished in {0} minutes {1} seconds\".format((end - start) // 60, int((end - start) % 60)))\n",
    "            \n",
    "            #TODO: make log of the exceptions, to find out what kind of they are\n",
    "            except IncompleteRead as e: \n",
    "                print(\"Network problem: \", e)\n",
    "                print(\"Second and final attempt is under way...\")\n",
    "                \n",
    "                result_handle = NCBIWWW.qblast(\"blastn\", \"nt\",  rec.seq, hitlist_size=hits_to_return)\n",
    "                blast_record = NCBIXML.read(result_handle)\n",
    "                for alignt in  blast_record.alignments:\n",
    "                    for hsp in alignt.hsps:\n",
    "                        if hsp.expect < e_thresh:\n",
    "                            f_obj.write(\"---------hit--------\\n\")\n",
    "                            f_obj.write(\"sequence: \" + alignt.title + \"\\n\")\n",
    "                            f_obj.write(\"length: \" + str(alignt.length) + \"\\n\")\n",
    "                            f_obj.write(\"e value: \" + str(hsp.expect) + \"\\n\")\n",
    "                        \n",
    "                   \n",
    "                end = time()\n",
    "                print(rec.id + \" blast query was finished in {0} minutes {1} seconds\".format((end - start) // 60, int((end - start) % 60)))\n",
    "            \n",
    "            except gaierror as e:\n",
    "                print(\"some other problem, 'gaierror': \", e)\n",
    "            except HTTPError as e:\n",
    "                print(\"urllib.error.HTTPError: \", e)"
   ]
  },
  {
   "cell_type": "code",
   "execution_count": null,
   "metadata": {},
   "outputs": [
    {
     "name": "stdout",
     "output_type": "stream",
     "text": [
      "1 blast query was finished in 0.0 minutes 19 seconds\n",
      "2 blast query was finished in 4.0 minutes 9 seconds\n",
      "3 blast query was finished in 7.0 minutes 58 seconds\n",
      "4 blast query was finished in 13.0 minutes 43 seconds\n",
      "5 blast query was finished in 13.0 minutes 55 seconds\n",
      "6 blast query was finished in 27.0 minutes 39 seconds\n",
      "7 blast query was finished in 28.0 minutes 45 seconds\n",
      "8 blast query was finished in 30.0 minutes 26 seconds\n",
      "9 blast query was finished in 31.0 minutes 10 seconds\n"
     ]
    }
   ],
   "source": [
    "blast_fasta(path_to=\"./input_data/over_seq.txt\", hits_to_return=1)"
   ]
  },
  {
   "cell_type": "code",
   "execution_count": null,
   "metadata": {},
   "outputs": [],
   "source": []
  },
  {
   "cell_type": "code",
   "execution_count": null,
   "metadata": {},
   "outputs": [],
   "source": []
  },
  {
   "cell_type": "code",
   "execution_count": null,
   "metadata": {},
   "outputs": [],
   "source": []
  },
  {
   "cell_type": "code",
   "execution_count": null,
   "metadata": {},
   "outputs": [],
   "source": []
  },
  {
   "cell_type": "code",
   "execution_count": null,
   "metadata": {},
   "outputs": [],
   "source": []
  },
  {
   "cell_type": "code",
   "execution_count": null,
   "metadata": {},
   "outputs": [],
   "source": []
  },
  {
   "cell_type": "code",
   "execution_count": null,
   "metadata": {},
   "outputs": [],
   "source": []
  },
  {
   "cell_type": "code",
   "execution_count": null,
   "metadata": {},
   "outputs": [],
   "source": []
  },
  {
   "cell_type": "code",
   "execution_count": null,
   "metadata": {},
   "outputs": [],
   "source": []
  },
  {
   "cell_type": "code",
   "execution_count": null,
   "metadata": {},
   "outputs": [],
   "source": []
  },
  {
   "cell_type": "code",
   "execution_count": null,
   "metadata": {},
   "outputs": [],
   "source": []
  },
  {
   "cell_type": "code",
   "execution_count": null,
   "metadata": {},
   "outputs": [],
   "source": []
  },
  {
   "cell_type": "code",
   "execution_count": null,
   "metadata": {},
   "outputs": [],
   "source": []
  },
  {
   "cell_type": "code",
   "execution_count": null,
   "metadata": {},
   "outputs": [],
   "source": []
  }
 ],
 "metadata": {
  "kernelspec": {
   "display_name": "Python 3",
   "language": "python",
   "name": "python3"
  },
  "language_info": {
   "codemirror_mode": {
    "name": "ipython",
    "version": 3
   },
   "file_extension": ".py",
   "mimetype": "text/x-python",
   "name": "python",
   "nbconvert_exporter": "python",
   "pygments_lexer": "ipython3",
   "version": "3.6.5"
  }
 },
 "nbformat": 4,
 "nbformat_minor": 2
}
